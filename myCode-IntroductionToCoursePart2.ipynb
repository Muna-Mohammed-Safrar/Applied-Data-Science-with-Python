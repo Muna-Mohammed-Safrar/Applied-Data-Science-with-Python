{
 "cells": [
  {
   "cell_type": "markdown",
   "id": "ff6e2359",
   "metadata": {},
   "source": [
    " The Python Programming Language: Dates and Times"
   ]
  },
  {
   "cell_type": "code",
   "execution_count": 1,
   "id": "857ec6e4",
   "metadata": {},
   "outputs": [],
   "source": [
    "import datetime as dt\n",
    "import time as tm"
   ]
  },
  {
   "cell_type": "code",
   "execution_count": 2,
   "id": "feb61193",
   "metadata": {},
   "outputs": [
    {
     "data": {
      "text/plain": [
       "1704705994.3651109"
      ]
     },
     "execution_count": 2,
     "metadata": {},
     "output_type": "execute_result"
    }
   ],
   "source": [
    "tm.time()"
   ]
  },
  {
   "cell_type": "code",
   "execution_count": 6,
   "id": "eae4d3a1",
   "metadata": {},
   "outputs": [
    {
     "data": {
      "text/plain": [
       "datetime.datetime(2024, 1, 8, 13, 28, 35, 994897)"
      ]
     },
     "execution_count": 6,
     "metadata": {},
     "output_type": "execute_result"
    }
   ],
   "source": [
    "now = dt.datetime.fromtimestamp(tm.time())\n",
    "now"
   ]
  },
  {
   "cell_type": "code",
   "execution_count": 8,
   "id": "fe1e07db",
   "metadata": {},
   "outputs": [
    {
     "data": {
      "text/plain": [
       "datetime.date(2024, 1, 8)"
      ]
     },
     "execution_count": 8,
     "metadata": {},
     "output_type": "execute_result"
    }
   ],
   "source": [
    "today = dt.date.today()\n",
    "today"
   ]
  },
  {
   "cell_type": "markdown",
   "id": "64d8e6e4",
   "metadata": {},
   "source": [
    "The Python Programming Language: Objects and map()"
   ]
  },
  {
   "cell_type": "markdown",
   "id": "a859c7e7",
   "metadata": {},
   "source": [
    "example of class in python"
   ]
  },
  {
   "cell_type": "code",
   "execution_count": 10,
   "id": "f0787784",
   "metadata": {},
   "outputs": [],
   "source": [
    "class Person:\n",
    "    def set_name(self, NameOfStudent):\n",
    "        self.name = NameOfStudent\n",
    "    def set_age(self, AgeOfStudent):\n",
    "        self.age = AgeOfStudent\n",
    "    "
   ]
  },
  {
   "cell_type": "code",
   "execution_count": 11,
   "id": "7fb96de6",
   "metadata": {},
   "outputs": [
    {
     "name": "stdout",
     "output_type": "stream",
     "text": [
      "Muan Safrar is a student, she is 24\n"
     ]
    }
   ],
   "source": [
    "student = Person()\n",
    "student.set_name(\"Muan Safrar\")\n",
    "student.set_age(24)\n",
    "print('{} is a student, she is {}'.format(student.name, student.age))"
   ]
  },
  {
   "cell_type": "code",
   "execution_count": 16,
   "id": "924e80ed",
   "metadata": {},
   "outputs": [],
   "source": [
    "class Person:\n",
    "    def name1(self, NameOfStudent):\n",
    "        self.name = NameOfStudent\n",
    "    def age1(self, AgeOfStudent):\n",
    "        self.age = AgeOfStudent\n",
    "    "
   ]
  },
  {
   "cell_type": "code",
   "execution_count": 17,
   "id": "d65276cd",
   "metadata": {},
   "outputs": [
    {
     "name": "stdout",
     "output_type": "stream",
     "text": [
      "Muan Safrar is a student, she is 24\n"
     ]
    }
   ],
   "source": [
    "student = Person()\n",
    "student.name1(\"Muan Safrar\")\n",
    "student.age1(24)\n",
    "print('{} is a student, she is {}'.format(student.name, student.age))"
   ]
  },
  {
   "cell_type": "markdown",
   "id": "07b6af92",
   "metadata": {},
   "source": [
    "The Python Programming Language: Lambda and List Comprehensions"
   ]
  },
  {
   "cell_type": "code",
   "execution_count": 18,
   "id": "93f589e2",
   "metadata": {},
   "outputs": [
    {
     "name": "stdout",
     "output_type": "stream",
     "text": [
      "[0, 1, 4, 9, 16]\n"
     ]
    }
   ],
   "source": [
    "square=[]\n",
    "for i in range(5):\n",
    "    square.append(i ** 2)\n",
    "print(square)"
   ]
  },
  {
   "cell_type": "code",
   "execution_count": 19,
   "id": "86f52fc6",
   "metadata": {},
   "outputs": [
    {
     "data": {
      "text/plain": [
       "[0, 1, 4, 9, 16]"
      ]
     },
     "execution_count": 19,
     "metadata": {},
     "output_type": "execute_result"
    }
   ],
   "source": [
    "square_comprehension = [i ** 2 for i in range(5)]\n",
    "square_comprehension"
   ]
  },
  {
   "cell_type": "code",
   "execution_count": 20,
   "id": "fdde2138",
   "metadata": {},
   "outputs": [
    {
     "name": "stdout",
     "output_type": "stream",
     "text": [
      "8\n"
     ]
    }
   ],
   "source": [
    "add_three = lambda a: a+3\n",
    "print(add_three(5))"
   ]
  },
  {
   "cell_type": "code",
   "execution_count": null,
   "id": "8a36b12d",
   "metadata": {},
   "outputs": [],
   "source": []
  }
 ],
 "metadata": {
  "kernelspec": {
   "display_name": "Python 3 (ipykernel)",
   "language": "python",
   "name": "python3"
  },
  "language_info": {
   "codemirror_mode": {
    "name": "ipython",
    "version": 3
   },
   "file_extension": ".py",
   "mimetype": "text/x-python",
   "name": "python",
   "nbconvert_exporter": "python",
   "pygments_lexer": "ipython3",
   "version": "3.11.3"
  }
 },
 "nbformat": 4,
 "nbformat_minor": 5
}
