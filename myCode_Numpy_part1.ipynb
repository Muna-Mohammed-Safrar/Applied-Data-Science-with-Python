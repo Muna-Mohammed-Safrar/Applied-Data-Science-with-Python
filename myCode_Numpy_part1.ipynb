{
 "cells": [
  {
   "cell_type": "code",
   "execution_count": 1,
   "id": "39236b90",
   "metadata": {},
   "outputs": [],
   "source": [
    "import numpy as np\n",
    "import math"
   ]
  },
  {
   "cell_type": "markdown",
   "id": "d330de85",
   "metadata": {},
   "source": [
    "Array Creation"
   ]
  },
  {
   "cell_type": "code",
   "execution_count": 2,
   "id": "3a19f39c",
   "metadata": {},
   "outputs": [
    {
     "name": "stdout",
     "output_type": "stream",
     "text": [
      "[1 2 3]\n"
     ]
    },
    {
     "data": {
      "text/plain": [
       "numpy.ndarray"
      ]
     },
     "execution_count": 2,
     "metadata": {},
     "output_type": "execute_result"
    }
   ],
   "source": [
    "array1 = np.array([1, 2, 3])\n",
    "print(array1)\n",
    "type(array1)"
   ]
  },
  {
   "cell_type": "code",
   "execution_count": 3,
   "id": "ab532b13",
   "metadata": {},
   "outputs": [
    {
     "name": "stdout",
     "output_type": "stream",
     "text": [
      "1\n"
     ]
    }
   ],
   "source": [
    "print(array1.ndim)"
   ]
  },
  {
   "cell_type": "code",
   "execution_count": 4,
   "id": "62fcb959",
   "metadata": {},
   "outputs": [
    {
     "name": "stdout",
     "output_type": "stream",
     "text": [
      "[1 2 3]\n",
      "1\n"
     ]
    }
   ],
   "source": [
    "one_dimentional_array = np.array([1, 2, 3])\n",
    "print(one_dimentional_array)\n",
    "print(one_dimentional_array.ndim)"
   ]
  },
  {
   "cell_type": "code",
   "execution_count": 5,
   "id": "1e133d2e",
   "metadata": {},
   "outputs": [
    {
     "name": "stdout",
     "output_type": "stream",
     "text": [
      "[[1 2 3]\n",
      " [4 5 6]]\n",
      "2\n"
     ]
    }
   ],
   "source": [
    "two_dimentional_array = np.array([[1, 2, 3], [4, 5, 6]])\n",
    "print(two_dimentional_array)\n",
    "print(two_dimentional_array.ndim)"
   ]
  },
  {
   "cell_type": "code",
   "execution_count": 6,
   "id": "7ceec03d",
   "metadata": {},
   "outputs": [
    {
     "name": "stdout",
     "output_type": "stream",
     "text": [
      "[[[1 2 3]\n",
      "  [4 5 6]]]\n",
      "3\n"
     ]
    }
   ],
   "source": [
    "three_dimentional_array = np.array([[[1, 2, 3], [4, 5, 6]]])\n",
    "print(three_dimentional_array)\n",
    "print(three_dimentional_array.ndim)"
   ]
  },
  {
   "cell_type": "markdown",
   "id": "f460d7e2",
   "metadata": {},
   "source": [
    "Shape"
   ]
  },
  {
   "cell_type": "code",
   "execution_count": 7,
   "id": "29c65bcb",
   "metadata": {},
   "outputs": [
    {
     "name": "stdout",
     "output_type": "stream",
     "text": [
      "(3,)\n",
      "(2, 3)\n",
      "(1, 2, 3)\n"
     ]
    }
   ],
   "source": [
    "print(one_dimentional_array.shape)\n",
    "print(two_dimentional_array.shape)   #classical once (2, 3)\n",
    "print(three_dimentional_array.shape)"
   ]
  },
  {
   "cell_type": "markdown",
   "id": "0a8634ea",
   "metadata": {},
   "source": [
    "data type"
   ]
  },
  {
   "cell_type": "code",
   "execution_count": 8,
   "id": "487b5702",
   "metadata": {},
   "outputs": [
    {
     "name": "stdout",
     "output_type": "stream",
     "text": [
      "int32\n",
      "int32\n",
      "int32\n"
     ]
    }
   ],
   "source": [
    "print(one_dimentional_array.dtype)\n",
    "print(two_dimentional_array.dtype)   #classical once \n",
    "print(three_dimentional_array.dtype)"
   ]
  },
  {
   "cell_type": "markdown",
   "id": "49b303f0",
   "metadata": {},
   "source": [
    "zero,one"
   ]
  },
  {
   "cell_type": "code",
   "execution_count": 9,
   "id": "742ed09d",
   "metadata": {},
   "outputs": [
    {
     "name": "stdout",
     "output_type": "stream",
     "text": [
      "[[0. 0. 0.]\n",
      " [0. 0. 0.]]\n",
      "[[1. 1. 1.]\n",
      " [1. 1. 1.]]\n"
     ]
    }
   ],
   "source": [
    "zeros_array = np.zeros((2, 3))\n",
    "print(zeros_array)\n",
    "ones_array = np.ones((2, 3))\n",
    "print(ones_array)"
   ]
  },
  {
   "cell_type": "markdown",
   "id": "314a7043",
   "metadata": {},
   "source": [
    "eye"
   ]
  },
  {
   "cell_type": "code",
   "execution_count": 10,
   "id": "e4773ce1",
   "metadata": {},
   "outputs": [
    {
     "name": "stdout",
     "output_type": "stream",
     "text": [
      "[[1. 0. 0. 0. 0.]\n",
      " [0. 1. 0. 0. 0.]\n",
      " [0. 0. 1. 0. 0.]\n",
      " [0. 0. 0. 1. 0.]\n",
      " [0. 0. 0. 0. 1.]]\n"
     ]
    }
   ],
   "source": [
    "eye_arry = np.eye(5)    # identity matrix --> 5*5 array of 0 with 1 diagonal \n",
    "print(eye_arry)"
   ]
  },
  {
   "cell_type": "code",
   "execution_count": 11,
   "id": "f2642847",
   "metadata": {},
   "outputs": [
    {
     "name": "stdout",
     "output_type": "stream",
     "text": [
      "[ 0.  5. 10.]\n"
     ]
    }
   ],
   "source": [
    "selected_array = np.linspace(0, 10, 3)    # array of 3 values between 0, less than 10\n",
    "print(selected_array)"
   ]
  },
  {
   "cell_type": "code",
   "execution_count": 12,
   "id": "eed403c1",
   "metadata": {},
   "outputs": [
    {
     "name": "stdout",
     "output_type": "stream",
     "text": [
      "[0 2 4 6 8]\n"
     ]
    }
   ],
   "source": [
    "arrangment_array = np.arange(0, 10, 2)   # array from 0, to less than 10 with step of 2\n",
    "print(arrangment_array)"
   ]
  },
  {
   "cell_type": "code",
   "execution_count": 13,
   "id": "5e3297f3",
   "metadata": {},
   "outputs": [
    {
     "name": "stdout",
     "output_type": "stream",
     "text": [
      "[[5 5 5]\n",
      " [5 5 5]]\n"
     ]
    }
   ],
   "source": [
    "full_array = np.full((2, 3), 5)     # 2*3 array with all values of 5\n",
    "print(full_array)"
   ]
  },
  {
   "cell_type": "code",
   "execution_count": 14,
   "id": "f59651c4",
   "metadata": {},
   "outputs": [
    {
     "name": "stdout",
     "output_type": "stream",
     "text": [
      "[[0.87651219 0.77530094 0.14504494]\n",
      " [0.62262206 0.17235363 0.32016477]]\n"
     ]
    }
   ],
   "source": [
    "random_arr = np.random.rand(2, 3)   # 2*3 array of random floats values between 0-1\n",
    "print(random_arr)"
   ]
  },
  {
   "cell_type": "code",
   "execution_count": 15,
   "id": "529ef241",
   "metadata": {},
   "outputs": [
    {
     "name": "stdout",
     "output_type": "stream",
     "text": [
      "[[0 2 2]\n",
      " [2 4 2]]\n"
     ]
    }
   ],
   "source": [
    "random_array = np.random.randint(5, size=(2, 3))  # 2*3 array with roandom ints between 0-4\n",
    "print(random_array)"
   ]
  },
  {
   "cell_type": "markdown",
   "id": "ccabfb70",
   "metadata": {},
   "source": [
    "Inspecting properties"
   ]
  },
  {
   "cell_type": "code",
   "execution_count": 16,
   "id": "ebb8ee9f",
   "metadata": {},
   "outputs": [
    {
     "name": "stdout",
     "output_type": "stream",
     "text": [
      "[[10 20 30]\n",
      " [ 5 10 15]]\n",
      "6\n",
      "(2, 3)\n",
      "int32\n",
      "[[10, 20, 30], [5, 10, 15]]\n"
     ]
    },
    {
     "data": {
      "text/plain": [
       "list"
      ]
     },
     "execution_count": 16,
     "metadata": {},
     "output_type": "execute_result"
    }
   ],
   "source": [
    "my_array = np.array([[10, 20, 30], [5, 10, 15]])\n",
    "print(my_array)\n",
    "print(my_array.size)   # no. of elements \n",
    "print(my_array.shape)\n",
    "print(my_array.dtype)\n",
    "#print(my_array.info)\n",
    "\n",
    "my_list = my_array.tolist()   # convert array to list\n",
    "print(my_list)\n",
    "type(my_list)"
   ]
  },
  {
   "cell_type": "markdown",
   "id": "814a2999",
   "metadata": {},
   "source": [
    "Array Operations"
   ]
  },
  {
   "cell_type": "code",
   "execution_count": 17,
   "id": "bdd34fe0",
   "metadata": {},
   "outputs": [
    {
     "name": "stdout",
     "output_type": "stream",
     "text": [
      "[11 22 33 44]\n"
     ]
    }
   ],
   "source": [
    "a = np.array([10,20,30,40])\n",
    "b = np.array([1, 2, 3,4])\n",
    "\n",
    "c = a + b \n",
    "print(c)"
   ]
  },
  {
   "cell_type": "code",
   "execution_count": 18,
   "id": "9fbab67d",
   "metadata": {},
   "outputs": [
    {
     "name": "stdout",
     "output_type": "stream",
     "text": [
      "[ 10  40  90 160]\n"
     ]
    }
   ],
   "source": [
    "d = a*b\n",
    "print(d)"
   ]
  },
  {
   "cell_type": "code",
   "execution_count": 19,
   "id": "a7be303a",
   "metadata": {},
   "outputs": [
    {
     "name": "stdout",
     "output_type": "stream",
     "text": [
      "(2, 2)\n",
      "(2, 2)\n",
      "[[2 0]\n",
      " [0 4]]\n"
     ]
    }
   ],
   "source": [
    "# Besides elementwise manipulation, it is important to know that numpy supports matrix manipulation. Let's\n",
    "# look at matrix product. if we want to do elementwise product, we use the \"*\" sign\n",
    "A = np.array([[1,1],[0,1]])\n",
    "B = np.array([[2,0],[3,4]])\n",
    "\n",
    "print(A.shape)\n",
    "print(B.shape)\n",
    "\n",
    "print(A*B)"
   ]
  },
  {
   "cell_type": "code",
   "execution_count": 20,
   "id": "cfbfa4a3",
   "metadata": {},
   "outputs": [
    {
     "name": "stdout",
     "output_type": "stream",
     "text": [
      "[[5 4]\n",
      " [3 4]]\n"
     ]
    }
   ],
   "source": [
    "# if we want to do matrix product, we use the \"@\" sign or use the dot function\n",
    "print(A@B)"
   ]
  },
  {
   "cell_type": "code",
   "execution_count": 21,
   "id": "3c7aaa74",
   "metadata": {},
   "outputs": [
    {
     "name": "stdout",
     "output_type": "stream",
     "text": [
      "[1 3 5]\n",
      "int32\n",
      "9\n",
      "5\n",
      "1\n",
      "3.0\n"
     ]
    }
   ],
   "source": [
    "array1 = np.array([1, 1, 2])\n",
    "array2 = np.array([0, 2, 3])\n",
    "\n",
    "array3 = array1+array2\n",
    "\n",
    "print(array3)\n",
    "print(array3.dtype)\n",
    "print(array3.sum())\n",
    "print(array3.max())\n",
    "print(array3.min())\n",
    "print(array3.mean())"
   ]
  },
  {
   "cell_type": "markdown",
   "id": "6f999add",
   "metadata": {},
   "source": [
    "adding / removing elements"
   ]
  },
  {
   "cell_type": "code",
   "execution_count": 22,
   "id": "6cb6b6b4",
   "metadata": {},
   "outputs": [
    {
     "name": "stdout",
     "output_type": "stream",
     "text": [
      "[1 2 3 5]\n"
     ]
    }
   ],
   "source": [
    "array_4 = np.array([1, 2, 3])\n",
    "\n",
    "array_5 = np.append(array_4, 5)  # add only 1 element at a time to the end of the array\n",
    "print(array_5)"
   ]
  },
  {
   "cell_type": "code",
   "execution_count": 23,
   "id": "070b410d",
   "metadata": {},
   "outputs": [
    {
     "name": "stdout",
     "output_type": "stream",
     "text": [
      "[ 1  2 10  3]\n"
     ]
    }
   ],
   "source": [
    "array_6 = np.insert(array_4, 2, 10)  # insert in array_4 , the value(10) before index 2\n",
    "print(array_6)"
   ]
  },
  {
   "cell_type": "code",
   "execution_count": 24,
   "id": "ffe903d1",
   "metadata": {},
   "outputs": [
    {
     "name": "stdout",
     "output_type": "stream",
     "text": [
      "[ 1  2 10 12  3]\n"
     ]
    }
   ],
   "source": [
    "array_7 = np.insert(array_4, 2, [10, 12])  # insert values 10 and 12 before index 2\n",
    "print(array_7)"
   ]
  },
  {
   "cell_type": "code",
   "execution_count": 25,
   "id": "3125e914",
   "metadata": {},
   "outputs": [
    {
     "data": {
      "text/plain": [
       "array([1, 3])"
      ]
     },
     "execution_count": 25,
     "metadata": {},
     "output_type": "execute_result"
    }
   ],
   "source": [
    "array_8 = np.delete(array_4, 1, axis=0)  # delete index 1\n",
    "array_8"
   ]
  },
  {
   "cell_type": "code",
   "execution_count": null,
   "id": "35ba5848",
   "metadata": {},
   "outputs": [],
   "source": []
  }
 ],
 "metadata": {
  "kernelspec": {
   "display_name": "Python 3 (ipykernel)",
   "language": "python",
   "name": "python3"
  },
  "language_info": {
   "codemirror_mode": {
    "name": "ipython",
    "version": 3
   },
   "file_extension": ".py",
   "mimetype": "text/x-python",
   "name": "python",
   "nbconvert_exporter": "python",
   "pygments_lexer": "ipython3",
   "version": "3.11.3"
  }
 },
 "nbformat": 4,
 "nbformat_minor": 5
}
